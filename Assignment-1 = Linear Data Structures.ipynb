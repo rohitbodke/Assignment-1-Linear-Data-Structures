{
 "cells": [
  {
   "cell_type": "code",
   "execution_count": 1,
   "id": "8a634daa",
   "metadata": {},
   "outputs": [
    {
     "name": "stdout",
     "output_type": "stream",
     "text": [
      "Array=  [5, 2, 3, 4, 1, 6, 7]\n",
      "Pairs whose sum is :  7\n",
      "5 2\n",
      "3 4\n",
      "1 6\n"
     ]
    }
   ],
   "source": [
    "# 1.Write a program to find all pairs of an integer array whose sum is equal to a given number\n",
    "def find(array, len, summ):\n",
    "    print(\"Pairs whose sum is : \", summ)\n",
    "    for i in range(len):\n",
    "        for j in range(i, len):\n",
    "            if (array[i] + array[j]) == summ:\n",
    "                print(array[i], array[j])\n",
    "\n",
    "\n",
    "\n",
    "\n",
    "array = [5, 2, 3, 4, 1, 6, 7]\n",
    "\n",
    "\n",
    "\n",
    "\n",
    "summ = 7\n",
    "\n",
    "\n",
    "\n",
    "print(\"Array= \", array)\n",
    "\n",
    "\n",
    "\n",
    "find(array, len(array), summ)"
   ]
  },
  {
   "cell_type": "code",
   "execution_count": 2,
   "id": "eb569e33",
   "metadata": {},
   "outputs": [
    {
     "name": "stdout",
     "output_type": "stream",
     "text": [
      "[1, 2, 3, 4, 5, 6]\n",
      "Reversed list is\n",
      "[6, 5, 4, 3, 2, 1]\n"
     ]
    }
   ],
   "source": [
    "#Q2. Write a program to reverse an array in place?\n",
    "def reverselist(a, start, end):\n",
    "    while start < end:\n",
    "        a[start], a[end] = a[end], a[start]\n",
    "        start += 1\n",
    "        end -= 1\n",
    "\n",
    "\n",
    "a = [1, 2, 3, 4, 5, 6]\n",
    "print(a)\n",
    "reverselist(a, 0, 5)\n",
    "print(\"Reversed list is\")\n",
    "print(a)"
   ]
  },
  {
   "cell_type": "code",
   "execution_count": 3,
   "id": "037d7700",
   "metadata": {},
   "outputs": [
    {
     "name": "stdout",
     "output_type": "stream",
     "text": [
      "Given Strings are rotations of each other.\n"
     ]
    }
   ],
   "source": [
    "#3 Write a program to check if two strings are a rotation of each other?\n",
    "def checkRotation(s1, s2):\n",
    "    temp = ''\n",
    "  \n",
    "\n",
    "    if len(s1) != len(s2):\n",
    "        return False\n",
    "  \n",
    "    \n",
    "    temp = s1 + s1\n",
    "  \n",
    "    \n",
    "    if s2 in temp:\n",
    "        return True \n",
    "    else:\n",
    "        return False\n",
    "  \n",
    "\n",
    "string1 = \"HELLO\"\n",
    "string2 = \"LOHEL\"\n",
    "  \n",
    "if checkRotation(string1, string2):\n",
    "    print(\"Given Strings are rotations of each other.\")\n",
    "else:\n",
    "    print(\"Given Strings are not rotations of each other.\")"
   ]
  },
  {
   "cell_type": "code",
   "execution_count": 4,
   "id": "bd4972bb",
   "metadata": {},
   "outputs": [
    {
     "name": "stdout",
     "output_type": "stream",
     "text": [
      "First non-repeating character is f\n"
     ]
    }
   ],
   "source": [
    "#4 Write a program to print the first non-repeated character from a string?\n",
    "\n",
    "\n",
    "\n",
    "NO_OF_CHARS = 256\n",
    "\n",
    "\n",
    "\n",
    "\n",
    "def getCharCountArray(string):\n",
    "    count = [0] * NO_OF_CHARS\n",
    "    for i in string:\n",
    "        count[ord(i)] += 1\n",
    "    return count\n",
    "\n",
    "\n",
    "\n",
    "def firstNonRepeating(string):\n",
    "    count = getCharCountArray(string)\n",
    "    index = -1\n",
    "    k = 0\n",
    "\n",
    "    for i in string:\n",
    "        if count[ord(i)] == 1:\n",
    "            index = k\n",
    "            break\n",
    "        k += 1\n",
    "\n",
    "    return index\n",
    "\n",
    "string = \"geeksforgeeks\"\n",
    "index = firstNonRepeating(string)\n",
    "if index == 1:\n",
    "    print(\"Either all characters are repeating or string is empty\")\n",
    "else:\n",
    "    print(\"First non-repeating character is\", string[index])"
   ]
  },
  {
   "cell_type": "code",
   "execution_count": 5,
   "id": "b87c12a3",
   "metadata": {},
   "outputs": [
    {
     "name": "stdout",
     "output_type": "stream",
     "text": [
      "Move disk 1 from rod A to rod C\n",
      "Move disk 2 from rod A to rod B\n",
      "Move disk 1 from rod C to rod B\n",
      "Move disk 3 from rod A to rod C\n",
      "Move disk 1 from rod B to rod A\n",
      "Move disk 2 from rod B to rod C\n",
      "Move disk 1 from rod A to rod C\n"
     ]
    }
   ],
   "source": [
    "#Q5. Read about the Tower of Hanoi algorithm. Write a program to implement it.\n",
    "\n",
    "def TowerOfHanoi(n, from_rod, to_rod, aux_rod):\n",
    "    if n == 0:\n",
    "        return\n",
    "    TowerOfHanoi(n-1, from_rod, aux_rod, to_rod)\n",
    "    print(\"Move disk\", n, \"from rod\", from_rod, \"to rod\", to_rod)\n",
    "    TowerOfHanoi(n-1, aux_rod, to_rod, from_rod)\n",
    "\n",
    "\n",
    "\n",
    "N = 3\n",
    "\n",
    "\n",
    "TowerOfHanoi(N, 'A', 'C', 'B')"
   ]
  },
  {
   "cell_type": "code",
   "execution_count": 6,
   "id": "88c0dd63",
   "metadata": {},
   "outputs": [
    {
     "name": "stdout",
     "output_type": "stream",
     "text": [
      "AB+CD-*\n"
     ]
    }
   ],
   "source": [
    "#Q6. Read about infix, prefix, and postfix expressions. Write a program to convert postfix to prefix expression.\n",
    "\n",
    "\n",
    "\n",
    "\n",
    "\n",
    "s = \"*+AB-CD\"\n",
    "\n",
    "\n",
    "stack = []\n",
    "\n",
    "operators = set(['+', '-', '*', '/', '^'])\n",
    "\n",
    "\n",
    "s = s[::-1]\n",
    "\n",
    "\n",
    "for i in s:\n",
    "\n",
    "\n",
    "    if i in operators:\n",
    "\n",
    "    \n",
    "        a = stack.pop()\n",
    "        b = stack.pop()\n",
    "\n",
    "        \n",
    "        temp = a+b+i\n",
    "        stack.append(temp)\n",
    "\n",
    "\n",
    "    else:\n",
    "        stack.append(i)\n",
    "\n",
    "print(*stack)"
   ]
  },
  {
   "cell_type": "code",
   "execution_count": 7,
   "id": "8eb0a244",
   "metadata": {},
   "outputs": [
    {
     "name": "stdout",
     "output_type": "stream",
     "text": [
      "((A-(B/C))*((A/K)-L))\n"
     ]
    }
   ],
   "source": [
    "#Q7. Write a program to convert prefix expression to infix expression.\n",
    "def prefixToInfix(prefix):\n",
    "    stack = []\n",
    "     \n",
    "    \n",
    "    i = len(prefix) - 1\n",
    "    while i >= 0:\n",
    "        if not isOperator(prefix[i]):\n",
    "             \n",
    "            \n",
    "            stack.append(prefix[i])\n",
    "            i -= 1\n",
    "        else:\n",
    "           \n",
    "            \n",
    "            str = \"(\" + stack.pop() + prefix[i] + stack.pop() + \")\"\n",
    "            stack.append(str)\n",
    "            i -= 1\n",
    "     \n",
    "    return stack.pop()\n",
    "\n",
    "def isOperator(c):\n",
    "    if c == \"*\" or c == \"+\" or c == \"-\" or c == \"/\" or c == \"^\" or c == \"(\" or c == \")\":\n",
    "        return True\n",
    "    else:\n",
    "        return False\n",
    "\n",
    "\n",
    "if __name__==\"__main__\":\n",
    "    str = \"*-A/BC-/AKL\"\n",
    "    print(prefixToInfix(str))\n",
    "     \n"
   ]
  },
  {
   "cell_type": "code",
   "execution_count": 8,
   "id": "a8bae669",
   "metadata": {},
   "outputs": [
    {
     "name": "stdout",
     "output_type": "stream",
     "text": [
      "enter the string{[}]\n",
      "All brackets are closed\n"
     ]
    }
   ],
   "source": [
    "#8.program to check if all the brackets are closed in a given code snippet\n",
    "\n",
    "\n",
    "\n",
    "class Stack:\n",
    "    def __init__(self,limit):\n",
    "        self.limit = limit\n",
    "        self.elements = []\n",
    "        \n",
    "    def push(self,number):\n",
    "        if len(self.elements)== self.limit:\n",
    "            print('stack is full')\n",
    "        else:\n",
    "            self.elements.append(number)\n",
    "            \n",
    "    def pop(self):\n",
    "        if len(self.elements)==0:\n",
    "            print('The stack is empty')\n",
    "        else:\n",
    "            #print(f'removing {self.elements[-1]} from the stack')\n",
    "            return self.elements.pop()\n",
    "            \n",
    "    def peek(self):\n",
    "        if len(self.elements)==0:\n",
    "            print('The stack is empty')\n",
    "        else:\n",
    "            return self.elements[-1]\n",
    "    \n",
    "    def isEmpty(self):\n",
    "        if len(self.elements)== 0:\n",
    "            return True\n",
    "        else:\n",
    "            return False\n",
    "        \n",
    "    def isFull(self):\n",
    "        if len(self.elements)==self.limit:\n",
    "            return True\n",
    "        else:\n",
    "            return False\n",
    "        \n",
    "    def delete(self):\n",
    "        self.elements=[]\n",
    "        \n",
    "    def print_stack(self):\n",
    "        print('\\n---------------- Current stack values ------------------\\n')\n",
    "        for item in self.elements:\n",
    "            print(item,end=' ')\n",
    "\n",
    "\n",
    "\n",
    "str1=input(\"enter the string\")\n",
    "list1=['(','{','[']\n",
    "list2=[')','}',']']\n",
    "stack1=Stack(len(str1))\n",
    "flag=0\n",
    "for i in str1:\n",
    "    if i in list1:\n",
    "        stack1.push(i)\n",
    "    if i in list2:\n",
    "        stack1.pop()\n",
    "if stack1.isEmpty():\n",
    "            print(\"All brackets are closed\")\n",
    "else:\n",
    "    print(\"All brackets are NOT closed\")"
   ]
  },
  {
   "cell_type": "code",
   "execution_count": 9,
   "id": "e269f2d5",
   "metadata": {},
   "outputs": [
    {
     "name": "stdout",
     "output_type": "stream",
     "text": [
      "Original Stack\n",
      "5\n",
      "4\n",
      "3\n",
      "2\n",
      "1\n",
      "\n",
      "Stack after Reversing\n",
      "1\n",
      "2\n",
      "3\n",
      "4\n",
      "5\n"
     ]
    }
   ],
   "source": [
    "#Q9. Write a program to reverse a stack.\n",
    "class Stack:\n",
    "\n",
    "    \n",
    "    def __init__(self):\n",
    "        self.Elements = []\n",
    "         \n",
    "\n",
    "    def push(self, value):\n",
    "        self.Elements.append(value)\n",
    "       \n",
    "    \n",
    "    def pop(self):\n",
    "        return self.Elements.pop()\n",
    "     \n",
    "    def empty(self):\n",
    "        return self.Elements == []\n",
    "     \n",
    "    \n",
    "    def show(self):\n",
    "        for value in reversed(self.Elements):\n",
    "            print(value)\n",
    "\n",
    "\n",
    "def BottomInsert(s, value):\n",
    "   \n",
    "    \n",
    "    if s.empty():\n",
    "         \n",
    "\n",
    "        s.push(value)\n",
    "         \n",
    "    \n",
    "    else:\n",
    "        popped = s.pop()\n",
    "        BottomInsert(s, value)\n",
    "        s.push(popped)\n",
    "\n",
    "\n",
    "def Reverse(s):\n",
    "    if s.empty():\n",
    "        pass\n",
    "    else:\n",
    "        popped = s.pop()\n",
    "        Reverse(s)\n",
    "        BottomInsert(s, popped)\n",
    "\n",
    "\n",
    "\n",
    "stk = Stack()\n",
    "\n",
    "stk.push(1)\n",
    "stk.push(2)\n",
    "stk.push(3)\n",
    "stk.push(4)\n",
    "stk.push(5)\n",
    "\n",
    "print(\"Original Stack\")\n",
    "stk.show()\n",
    "\n",
    "print(\"\\nStack after Reversing\")\n",
    "Reverse(stk)\n",
    "stk.show()"
   ]
  },
  {
   "cell_type": "code",
   "execution_count": 10,
   "id": "2d5aace6",
   "metadata": {},
   "outputs": [
    {
     "name": "stdout",
     "output_type": "stream",
     "text": [
      "-3\n",
      "0\n",
      "-2\n"
     ]
    }
   ],
   "source": [
    "#Q10. Write a program to find the smallest number using a stack.\n",
    "class MinStack(object):\n",
    "   min=float('inf')\n",
    "   def __init__(self):\n",
    "      self.min=float('inf')\n",
    "      self.stack = []\n",
    "   def push(self, x):\n",
    "      if x<=self.min:\n",
    "         self.stack.append(self.min)\n",
    "         self.min = x\n",
    "      self.stack.append(x)\n",
    "   def pop(self):\n",
    "      t = self.stack[-1]\n",
    "      self.stack.pop()\n",
    "      if self.min == t:\n",
    "         self.min = self.stack[-1]\n",
    "         self.stack.pop()\n",
    "   def top(self):\n",
    "      return self.stack[-1]\n",
    "   def getMin(self):\n",
    "      return self.min\n",
    "m = MinStack()\n",
    "m.push(-2)\n",
    "m.push(0)\n",
    "m.push(-3)\n",
    "print(m.getMin())\n",
    "m.pop()\n",
    "print(m.top())\n",
    "print(m.getMin())"
   ]
  },
  {
   "cell_type": "code",
   "execution_count": null,
   "id": "da38ff74",
   "metadata": {},
   "outputs": [],
   "source": []
  }
 ],
 "metadata": {
  "kernelspec": {
   "display_name": "Python 3 (ipykernel)",
   "language": "python",
   "name": "python3"
  },
  "language_info": {
   "codemirror_mode": {
    "name": "ipython",
    "version": 3
   },
   "file_extension": ".py",
   "mimetype": "text/x-python",
   "name": "python",
   "nbconvert_exporter": "python",
   "pygments_lexer": "ipython3",
   "version": "3.9.12"
  }
 },
 "nbformat": 4,
 "nbformat_minor": 5
}
